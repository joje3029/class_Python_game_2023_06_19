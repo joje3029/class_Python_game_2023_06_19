{
 "cells": [
  {
   "cell_type": "code",
   "execution_count": null,
   "id": "dea9d49d",
   "metadata": {},
   "outputs": [
    {
     "name": "stdout",
     "output_type": "stream",
     "text": [
      "pygame 2.4.0 (SDL 2.26.4, Python 3.10.9)\n",
      "Hello from the pygame community. https://www.pygame.org/contribute.html\n"
     ]
    }
   ],
   "source": [
    "import pygame \n",
    "#  초기화  -> 변수선언\n",
    "pygame.init() \n",
    "\n",
    "#게임화면 설정\n",
    "size = [400, 1000]\n",
    "screen=pygame.display.set_mode(size)\n",
    "title=\"PLYTNG\"\n",
    "\n",
    "pygame.display.set_caption(title)\n",
    "#게임 화면 내부 설정 -> 변수\n",
    "clock = pygame.time.Clock()\n",
    "\n",
    "black = (0, 0, 0)\n",
    "player = pygame.image.load(\"C:/Users/Administrator/Pictures/psm/player.png\").convert_alpha()\n",
    "k = 0\n",
    "\n",
    "#메인 프린트\n",
    "system_exit = 0\n",
    "\n",
    "while(system_exit == 0):\n",
    "    #FPS(Frame Per Second)설정\n",
    "    clock.tick(60)\n",
    "    \n",
    "    #입력(키보드, 마우스)감지\n",
    "    for event in pygame.event.get(): \n",
    "        if event.type == pygame.QUIT:\n",
    "            system_exit = 1 #while 문 탈출\n",
    "            \n",
    "#     변화(입력/시간에 따른 변화)\n",
    "    k +=1\n",
    "        \n",
    "#    잔사작업(그리기) : 뱐수 활용하려면 변수 설정하고 전사작업 해야함.\n",
    "    screen.fill(black)\n",
    "    screen.blit(player,(0,0))\n",
    "#     업데이트\n",
    "    pygame.display.flip()\n",
    "#     종료\n",
    "pygame.quit"
   ]
  }
 ],
 "metadata": {
  "kernelspec": {
   "display_name": "Python 3 (ipykernel)",
   "language": "python",
   "name": "python3"
  },
  "language_info": {
   "codemirror_mode": {
    "name": "ipython",
    "version": 3
   },
   "file_extension": ".py",
   "mimetype": "text/x-python",
   "name": "python",
   "nbconvert_exporter": "python",
   "pygments_lexer": "ipython3",
   "version": "3.10.9"
  }
 },
 "nbformat": 4,
 "nbformat_minor": 5
}
