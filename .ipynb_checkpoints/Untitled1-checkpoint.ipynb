{
 "cells": [
  {
   "cell_type": "code",
   "execution_count": 1,
   "id": "bc765df0",
   "metadata": {},
   "outputs": [
    {
     "name": "stdout",
     "output_type": "stream",
     "text": [
      "pygame 2.4.0 (SDL 2.26.4, Python 3.10.9)\n",
      "Hello from the pygame community. https://www.pygame.org/contribute.html\n"
     ]
    },
    {
     "ename": "FileNotFoundError",
     "evalue": "No such file or directory: 'C:/Users/Administrator/Pictures/pygame/player.png'.",
     "output_type": "error",
     "traceback": [
      "\u001b[1;31m---------------------------------------------------------------------------\u001b[0m",
      "\u001b[1;31mFileNotFoundError\u001b[0m                         Traceback (most recent call last)",
      "Cell \u001b[1;32mIn[1], line 35\u001b[0m\n\u001b[0;32m     32\u001b[0m         screen\u001b[38;5;241m.\u001b[39mblit(\u001b[38;5;28mself\u001b[39m\u001b[38;5;241m.\u001b[39mimage, (\u001b[38;5;28mself\u001b[39m\u001b[38;5;241m.\u001b[39mx, \u001b[38;5;28mself\u001b[39m\u001b[38;5;241m.\u001b[39my))\n\u001b[0;32m     34\u001b[0m player \u001b[38;5;241m=\u001b[39m Object()\n\u001b[1;32m---> 35\u001b[0m \u001b[43mplayer\u001b[49m\u001b[38;5;241;43m.\u001b[39;49m\u001b[43madd_img\u001b[49m\u001b[43m(\u001b[49m\u001b[38;5;124;43m\"\u001b[39;49m\u001b[38;5;124;43mC:/Users/Administrator/Pictures/pygame/player.png\u001b[39;49m\u001b[38;5;124;43m\"\u001b[39;49m\u001b[43m)\u001b[49m\n\u001b[0;32m     36\u001b[0m player\u001b[38;5;241m.\u001b[39mchange_size(\u001b[38;5;241m50\u001b[39m, \u001b[38;5;241m80\u001b[39m)\n\u001b[0;32m     37\u001b[0m player\u001b[38;5;241m.\u001b[39mx \u001b[38;5;241m=\u001b[39m \u001b[38;5;28mround\u001b[39m(size[\u001b[38;5;241m0\u001b[39m] \u001b[38;5;241m/\u001b[39m \u001b[38;5;241m2\u001b[39m) \u001b[38;5;241m-\u001b[39m \u001b[38;5;28mround\u001b[39m(player\u001b[38;5;241m.\u001b[39mwidth \u001b[38;5;241m/\u001b[39m \u001b[38;5;241m2\u001b[39m)\n",
      "Cell \u001b[1;32mIn[1], line 23\u001b[0m, in \u001b[0;36mObject.add_img\u001b[1;34m(self, address)\u001b[0m\n\u001b[0;32m     21\u001b[0m \u001b[38;5;28;01mdef\u001b[39;00m \u001b[38;5;21madd_img\u001b[39m(\u001b[38;5;28mself\u001b[39m, address):\n\u001b[0;32m     22\u001b[0m     \u001b[38;5;28;01mif\u001b[39;00m address[\u001b[38;5;241m-\u001b[39m\u001b[38;5;241m3\u001b[39m:] \u001b[38;5;241m==\u001b[39m \u001b[38;5;124m'\u001b[39m\u001b[38;5;124mpng\u001b[39m\u001b[38;5;124m'\u001b[39m:\n\u001b[1;32m---> 23\u001b[0m         \u001b[38;5;28mself\u001b[39m\u001b[38;5;241m.\u001b[39mimage \u001b[38;5;241m=\u001b[39m \u001b[43mpygame\u001b[49m\u001b[38;5;241;43m.\u001b[39;49m\u001b[43mimage\u001b[49m\u001b[38;5;241;43m.\u001b[39;49m\u001b[43mload\u001b[49m\u001b[43m(\u001b[49m\u001b[43maddress\u001b[49m\u001b[43m)\u001b[49m\u001b[38;5;241m.\u001b[39mconvert_alpha()\n\u001b[0;32m     24\u001b[0m     \u001b[38;5;28;01melse\u001b[39;00m:\n\u001b[0;32m     25\u001b[0m         \u001b[38;5;28mself\u001b[39m\u001b[38;5;241m.\u001b[39mimage \u001b[38;5;241m=\u001b[39m pygame\u001b[38;5;241m.\u001b[39mimage\u001b[38;5;241m.\u001b[39mload(address)\n",
      "\u001b[1;31mFileNotFoundError\u001b[0m: No such file or directory: 'C:/Users/Administrator/Pictures/pygame/player.png'."
     ]
    }
   ],
   "source": [
    "import pygame\n",
    "\n",
    "# 1. 초기화 -> 변수선언\n",
    "pygame.init()\n",
    "\n",
    "# 2. 게임화면 설정 -> 크기 고정\n",
    "size = [400, 900]\n",
    "screen = pygame.display.set_mode(size)\n",
    "title = \"Using PyGame\"\n",
    "\n",
    "pygame.display.set_caption(title)\n",
    "\n",
    "# 3. 게임 화면 내부 설정 -> 변수\n",
    "clock = pygame.time.Clock()\n",
    "\n",
    "class Object:\n",
    "    def __init__(self):\n",
    "        self.x = 0\n",
    "        self.y = 0\n",
    "    \n",
    "    def add_img(self, address):\n",
    "        if address[-3:] == 'png':\n",
    "            self.image = pygame.image.load(address).convert_alpha()\n",
    "        else:\n",
    "            self.image = pygame.image.load(address)\n",
    "    \n",
    "    def change_size(self, width, heigth):\n",
    "        self.image = pygame.transform.scale(self.image, (width, heigth))\n",
    "        self.width, self.height = self.image.get_size()\n",
    "    \n",
    "    def show(self):\n",
    "        screen.blit(self.image, (self.x, self.y))\n",
    "\n",
    "player = Object()\n",
    "player.add_img(\"C:/Users/Administrator/Pictures/psm/player.png\")\n",
    "player.change_size(50, 80)\n",
    "player.x = round(size[0] / 2) - round(player.width / 2)\n",
    "player.y = size[1] - player.height - 50\n",
    "\n",
    "black = (0, 0, 0)\n",
    "\n",
    "# player = pygame.image.load(\"C:/Users/Administrator/Pictures/pygame/player.png\").convert_alpha()\n",
    "# player = pygame.transform.scale(player, (50, 80))\n",
    "# player_width, player_height = player.get_size()\n",
    "# player_x = round(size[0] / 2) - round(player_width / 2)\n",
    "# player_y = size[1] - player_height - 50\n",
    "\n",
    "k = 0\n",
    "\n",
    "\n",
    "# 4. 메인 이벤트\n",
    "system_exit = 0\n",
    "\n",
    "while(system_exit == 0):\n",
    "    #  4 - 1) FPS(Frame Per Second) 설정\n",
    "    clock.tick(60)\n",
    "    \n",
    "    #  4 - 2) 입력(키보드, 마우스) 감지\n",
    "    for event in pygame.event.get():\n",
    "        if event.type == pygame.QUIT:\n",
    "            system_exit = 1\n",
    "            \n",
    "    #  4 - 3) 변화(입력 / 시간에 따른 변화)\n",
    "    k += 1\n",
    "    \n",
    "        \n",
    "    #  4 - 4) 전사작업(그리기)\n",
    "    screen.fill(black)\n",
    "#     screen.blit(player, (player_x, player_y))\n",
    "    player.show()\n",
    "    \n",
    "    #  4 - 5) 업데이트\n",
    "    pygame.display.flip()\n",
    "\n",
    "# 5. 종료\n",
    "pygame.quit()"
   ]
  }
 ],
 "metadata": {
  "kernelspec": {
   "display_name": "Python 3 (ipykernel)",
   "language": "python",
   "name": "python3"
  },
  "language_info": {
   "codemirror_mode": {
    "name": "ipython",
    "version": 3
   },
   "file_extension": ".py",
   "mimetype": "text/x-python",
   "name": "python",
   "nbconvert_exporter": "python",
   "pygments_lexer": "ipython3",
   "version": "3.10.9"
  }
 },
 "nbformat": 4,
 "nbformat_minor": 5
}
