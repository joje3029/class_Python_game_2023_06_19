{
 "cells": [
  {
   "cell_type": "code",
   "execution_count": 5,
   "id": "dea9d49d",
   "metadata": {},
   "outputs": [
    {
     "ename": "AttributeError",
     "evalue": "'NoneType' object has no attribute 'fill'",
     "output_type": "error",
     "traceback": [
      "\u001b[1;31m---------------------------------------------------------------------------\u001b[0m",
      "\u001b[1;31mAttributeError\u001b[0m                            Traceback (most recent call last)",
      "Cell \u001b[1;32mIn[5], line 25\u001b[0m\n\u001b[0;32m     20\u001b[0m             system_exit \u001b[38;5;241m=\u001b[39m \u001b[38;5;241m1\u001b[39m\n\u001b[0;32m     21\u001b[0m \u001b[38;5;66;03m#     k +=1\u001b[39;00m\n\u001b[0;32m     22\u001b[0m \u001b[38;5;66;03m#     if k % 2==0:\u001b[39;00m\n\u001b[1;32m---> 25\u001b[0m     \u001b[43mscreen\u001b[49m\u001b[38;5;241;43m.\u001b[39;49m\u001b[43mfill\u001b[49m(color)\n\u001b[0;32m     26\u001b[0m     pygame\u001b[38;5;241m.\u001b[39mdisplay\u001b[38;5;241m.\u001b[39mflip()\n\u001b[0;32m     28\u001b[0m pygame\u001b[38;5;241m.\u001b[39mquit\n",
      "\u001b[1;31mAttributeError\u001b[0m: 'NoneType' object has no attribute 'fill'"
     ]
    }
   ],
   "source": [
    "import pygame \n",
    " \n",
    "pygame.init() \n",
    "\n",
    "#게임화면 설정\n",
    "size = [400, 1000]\n",
    "screen=pygame.display.set_mode(size)\n",
    "title=\"PLYTNG\"\n",
    "screen=pygame.display.set_caption(title)\n",
    "#게임 화면 내부 설정 -> 변수\n",
    "clock = pygame.time.Clock()\n",
    "black = (0, 0, 0)\n",
    "grey = (100, 100, 100)\n",
    "k = 0\n",
    "#메인 프린트\n",
    "system_exit = 0\n",
    "while(system_exit == 0):\n",
    "    clock.tick(60)#FPS(Frame Per Second)설정\n",
    "    for event in pygame.event.get(): #입력(키보드, 마우스)감지\n",
    "        if event.type == pygame.QUIT:\n",
    "            system_exit = 1\n",
    "#     k +=1\n",
    "#     if k % 2==0:\n",
    "        \n",
    "        \n",
    "    screen.fill(color)\n",
    "    pygame.display.flip()\n",
    "    \n",
    "pygame.quit"
   ]
  }
 ],
 "metadata": {
  "kernelspec": {
   "display_name": "Python 3 (ipykernel)",
   "language": "python",
   "name": "python3"
  },
  "language_info": {
   "codemirror_mode": {
    "name": "ipython",
    "version": 3
   },
   "file_extension": ".py",
   "mimetype": "text/x-python",
   "name": "python",
   "nbconvert_exporter": "python",
   "pygments_lexer": "ipython3",
   "version": "3.10.9"
  }
 },
 "nbformat": 4,
 "nbformat_minor": 5
}
